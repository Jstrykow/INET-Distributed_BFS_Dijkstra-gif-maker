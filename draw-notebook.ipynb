{
 "cells": [
  {
   "cell_type": "code",
   "execution_count": null,
   "metadata": {},
   "outputs": [],
   "source": [
    "# define color map. user_node = red, book_nodes = green\n",
    "color_map = ['red' if node == user_id else 'green' for node in G]        \n",
    "graph = nx.draw_networkx(G,pos, node_color=color_map) # node lables\n"
   ]
  }
 ],
 "metadata": {
  "kernelspec": {
   "display_name": "pytorch",
   "language": "python",
   "name": "python3"
  },
  "language_info": {
   "name": "python",
   "version": "3.10.4 | packaged by conda-forge | (main, Mar 30 2022, 08:38:02) [MSC v.1916 64 bit (AMD64)]"
  },
  "orig_nbformat": 4,
  "vscode": {
   "interpreter": {
    "hash": "5956fddbc4a6f6824b121cf0e23ebc7500ff35824c32d1f079f4448eeff5da71"
   }
  }
 },
 "nbformat": 4,
 "nbformat_minor": 2
}
